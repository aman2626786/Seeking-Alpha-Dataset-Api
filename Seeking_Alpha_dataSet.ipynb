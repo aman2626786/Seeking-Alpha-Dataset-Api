{
 "cells": [
  {
   "cell_type": "code",
   "execution_count": 89,
   "id": "cd2b2c39-ca57-42c9-8d51-3317c3d35cf4",
   "metadata": {},
   "outputs": [
    {
     "name": "stdout",
     "output_type": "stream",
     "text": [
      "Collecting ydata-profiling\n",
      "  Downloading ydata_profiling-4.12.0-py2.py3-none-any.whl.metadata (20 kB)\n",
      "Requirement already satisfied: scipy<1.14,>=1.4.1 in c:\\users\\aman2\\anaconda3\\lib\\site-packages (from ydata-profiling) (1.13.1)\n",
      "Requirement already satisfied: pandas!=1.4.0,<3,>1.1 in c:\\users\\aman2\\anaconda3\\lib\\site-packages (from ydata-profiling) (2.2.2)\n",
      "Requirement already satisfied: matplotlib<3.10,>=3.5 in c:\\users\\aman2\\anaconda3\\lib\\site-packages (from ydata-profiling) (3.9.2)\n",
      "Requirement already satisfied: pydantic>=2 in c:\\users\\aman2\\anaconda3\\lib\\site-packages (from ydata-profiling) (2.8.2)\n",
      "Requirement already satisfied: PyYAML<6.1,>=5.0.0 in c:\\users\\aman2\\anaconda3\\lib\\site-packages (from ydata-profiling) (6.0.1)\n",
      "Requirement already satisfied: jinja2<3.2,>=2.11.1 in c:\\users\\aman2\\anaconda3\\lib\\site-packages (from ydata-profiling) (3.1.4)\n",
      "Collecting visions<0.7.7,>=0.7.5 (from visions[type_image_path]<0.7.7,>=0.7.5->ydata-profiling)\n",
      "  Downloading visions-0.7.6-py3-none-any.whl.metadata (11 kB)\n",
      "Requirement already satisfied: numpy<2.2,>=1.16.0 in c:\\users\\aman2\\anaconda3\\lib\\site-packages (from ydata-profiling) (1.26.4)\n",
      "Collecting htmlmin==0.1.12 (from ydata-profiling)\n",
      "  Downloading htmlmin-0.1.12.tar.gz (19 kB)\n",
      "  Preparing metadata (setup.py): started\n",
      "  Preparing metadata (setup.py): finished with status 'done'\n",
      "Collecting phik<0.13,>=0.11.1 (from ydata-profiling)\n",
      "  Downloading phik-0.12.4-cp312-cp312-win_amd64.whl.metadata (5.6 kB)\n",
      "Requirement already satisfied: requests<3,>=2.24.0 in c:\\users\\aman2\\anaconda3\\lib\\site-packages (from ydata-profiling) (2.32.3)\n",
      "Requirement already satisfied: tqdm<5,>=4.48.2 in c:\\users\\aman2\\anaconda3\\lib\\site-packages (from ydata-profiling) (4.66.5)\n",
      "Requirement already satisfied: seaborn<0.14,>=0.10.1 in c:\\users\\aman2\\anaconda3\\lib\\site-packages (from ydata-profiling) (0.13.2)\n",
      "Collecting multimethod<2,>=1.4 (from ydata-profiling)\n",
      "  Downloading multimethod-1.12-py3-none-any.whl.metadata (9.6 kB)\n",
      "Requirement already satisfied: statsmodels<1,>=0.13.2 in c:\\users\\aman2\\anaconda3\\lib\\site-packages (from ydata-profiling) (0.14.2)\n",
      "Collecting typeguard<5,>=3 (from ydata-profiling)\n",
      "  Downloading typeguard-4.4.1-py3-none-any.whl.metadata (3.7 kB)\n",
      "Collecting imagehash==4.3.1 (from ydata-profiling)\n",
      "  Downloading ImageHash-4.3.1-py2.py3-none-any.whl.metadata (8.0 kB)\n",
      "Collecting wordcloud>=1.9.3 (from ydata-profiling)\n",
      "  Downloading wordcloud-1.9.3-cp312-cp312-win_amd64.whl.metadata (3.5 kB)\n",
      "Collecting dacite>=1.8 (from ydata-profiling)\n",
      "  Downloading dacite-1.8.1-py3-none-any.whl.metadata (15 kB)\n",
      "Requirement already satisfied: numba<1,>=0.56.0 in c:\\users\\aman2\\anaconda3\\lib\\site-packages (from ydata-profiling) (0.60.0)\n",
      "Requirement already satisfied: PyWavelets in c:\\users\\aman2\\anaconda3\\lib\\site-packages (from imagehash==4.3.1->ydata-profiling) (1.7.0)\n",
      "Requirement already satisfied: pillow in c:\\users\\aman2\\anaconda3\\lib\\site-packages (from imagehash==4.3.1->ydata-profiling) (10.4.0)\n",
      "Requirement already satisfied: MarkupSafe>=2.0 in c:\\users\\aman2\\anaconda3\\lib\\site-packages (from jinja2<3.2,>=2.11.1->ydata-profiling) (2.1.3)\n",
      "Requirement already satisfied: contourpy>=1.0.1 in c:\\users\\aman2\\anaconda3\\lib\\site-packages (from matplotlib<3.10,>=3.5->ydata-profiling) (1.2.0)\n",
      "Requirement already satisfied: cycler>=0.10 in c:\\users\\aman2\\anaconda3\\lib\\site-packages (from matplotlib<3.10,>=3.5->ydata-profiling) (0.11.0)\n",
      "Requirement already satisfied: fonttools>=4.22.0 in c:\\users\\aman2\\anaconda3\\lib\\site-packages (from matplotlib<3.10,>=3.5->ydata-profiling) (4.51.0)\n",
      "Requirement already satisfied: kiwisolver>=1.3.1 in c:\\users\\aman2\\anaconda3\\lib\\site-packages (from matplotlib<3.10,>=3.5->ydata-profiling) (1.4.4)\n",
      "Requirement already satisfied: packaging>=20.0 in c:\\users\\aman2\\anaconda3\\lib\\site-packages (from matplotlib<3.10,>=3.5->ydata-profiling) (24.1)\n",
      "Requirement already satisfied: pyparsing>=2.3.1 in c:\\users\\aman2\\anaconda3\\lib\\site-packages (from matplotlib<3.10,>=3.5->ydata-profiling) (3.1.2)\n",
      "Requirement already satisfied: python-dateutil>=2.7 in c:\\users\\aman2\\anaconda3\\lib\\site-packages (from matplotlib<3.10,>=3.5->ydata-profiling) (2.9.0.post0)\n",
      "Requirement already satisfied: llvmlite<0.44,>=0.43.0dev0 in c:\\users\\aman2\\anaconda3\\lib\\site-packages (from numba<1,>=0.56.0->ydata-profiling) (0.43.0)\n",
      "Requirement already satisfied: pytz>=2020.1 in c:\\users\\aman2\\anaconda3\\lib\\site-packages (from pandas!=1.4.0,<3,>1.1->ydata-profiling) (2024.1)\n",
      "Requirement already satisfied: tzdata>=2022.7 in c:\\users\\aman2\\anaconda3\\lib\\site-packages (from pandas!=1.4.0,<3,>1.1->ydata-profiling) (2023.3)\n",
      "Requirement already satisfied: joblib>=0.14.1 in c:\\users\\aman2\\anaconda3\\lib\\site-packages (from phik<0.13,>=0.11.1->ydata-profiling) (1.4.2)\n",
      "Requirement already satisfied: annotated-types>=0.4.0 in c:\\users\\aman2\\anaconda3\\lib\\site-packages (from pydantic>=2->ydata-profiling) (0.6.0)\n",
      "Requirement already satisfied: pydantic-core==2.20.1 in c:\\users\\aman2\\anaconda3\\lib\\site-packages (from pydantic>=2->ydata-profiling) (2.20.1)\n",
      "Requirement already satisfied: typing-extensions>=4.6.1 in c:\\users\\aman2\\anaconda3\\lib\\site-packages (from pydantic>=2->ydata-profiling) (4.11.0)\n",
      "Requirement already satisfied: charset-normalizer<4,>=2 in c:\\users\\aman2\\anaconda3\\lib\\site-packages (from requests<3,>=2.24.0->ydata-profiling) (3.3.2)\n",
      "Requirement already satisfied: idna<4,>=2.5 in c:\\users\\aman2\\anaconda3\\lib\\site-packages (from requests<3,>=2.24.0->ydata-profiling) (3.7)\n",
      "Requirement already satisfied: urllib3<3,>=1.21.1 in c:\\users\\aman2\\anaconda3\\lib\\site-packages (from requests<3,>=2.24.0->ydata-profiling) (2.2.3)\n",
      "Requirement already satisfied: certifi>=2017.4.17 in c:\\users\\aman2\\anaconda3\\lib\\site-packages (from requests<3,>=2.24.0->ydata-profiling) (2024.8.30)\n",
      "Requirement already satisfied: patsy>=0.5.6 in c:\\users\\aman2\\anaconda3\\lib\\site-packages (from statsmodels<1,>=0.13.2->ydata-profiling) (0.5.6)\n",
      "Requirement already satisfied: colorama in c:\\users\\aman2\\anaconda3\\lib\\site-packages (from tqdm<5,>=4.48.2->ydata-profiling) (0.4.6)\n",
      "Requirement already satisfied: attrs>=19.3.0 in c:\\users\\aman2\\anaconda3\\lib\\site-packages (from visions<0.7.7,>=0.7.5->visions[type_image_path]<0.7.7,>=0.7.5->ydata-profiling) (23.1.0)\n",
      "Requirement already satisfied: networkx>=2.4 in c:\\users\\aman2\\anaconda3\\lib\\site-packages (from visions<0.7.7,>=0.7.5->visions[type_image_path]<0.7.7,>=0.7.5->ydata-profiling) (3.3)\n",
      "Requirement already satisfied: six in c:\\users\\aman2\\anaconda3\\lib\\site-packages (from patsy>=0.5.6->statsmodels<1,>=0.13.2->ydata-profiling) (1.16.0)\n",
      "Downloading ydata_profiling-4.12.0-py2.py3-none-any.whl (390 kB)\n",
      "Downloading ImageHash-4.3.1-py2.py3-none-any.whl (296 kB)\n",
      "Downloading dacite-1.8.1-py3-none-any.whl (14 kB)\n",
      "Downloading multimethod-1.12-py3-none-any.whl (10 kB)\n",
      "Downloading phik-0.12.4-cp312-cp312-win_amd64.whl (666 kB)\n",
      "   ---------------------------------------- 0.0/666.4 kB ? eta -:--:--\n",
      "   ---------------------------------------- 0.0/666.4 kB ? eta -:--:--\n",
      "   ---------------------------------------- 0.0/666.4 kB ? eta -:--:--\n",
      "   ---------------------------------------- 0.0/666.4 kB ? eta -:--:--\n",
      "   --------------- ------------------------ 262.1/666.4 kB ? eta -:--:--\n",
      "   --------------- ------------------------ 262.1/666.4 kB ? eta -:--:--\n",
      "   --------------- ------------------------ 262.1/666.4 kB ? eta -:--:--\n",
      "   --------------- ------------------------ 262.1/666.4 kB ? eta -:--:--\n",
      "   --------------- ------------------------ 262.1/666.4 kB ? eta -:--:--\n",
      "   ----------------------------- -------- 524.3/666.4 kB 250.4 kB/s eta 0:00:01\n",
      "   ----------------------------- -------- 524.3/666.4 kB 250.4 kB/s eta 0:00:01\n",
      "   ----------------------------- -------- 524.3/666.4 kB 250.4 kB/s eta 0:00:01\n",
      "   -------------------------------------- 666.4/666.4 kB 256.0 kB/s eta 0:00:00\n",
      "Downloading typeguard-4.4.1-py3-none-any.whl (35 kB)\n",
      "Downloading visions-0.7.6-py3-none-any.whl (104 kB)\n",
      "Downloading wordcloud-1.9.3-cp312-cp312-win_amd64.whl (301 kB)\n",
      "Building wheels for collected packages: htmlmin\n",
      "  Building wheel for htmlmin (setup.py): started\n",
      "  Building wheel for htmlmin (setup.py): finished with status 'done'\n",
      "  Created wheel for htmlmin: filename=htmlmin-0.1.12-py3-none-any.whl size=27091 sha256=8cb8715f09ffd7fa664ca3b84222323fd1a7c6c3868976ee035e55bac401d1d2\n",
      "  Stored in directory: c:\\users\\aman2\\appdata\\local\\pip\\cache\\wheels\\5f\\d4\\d7\\4189b07b5902ee9f3ce0dbb14909fbe8037c39d6c63ffd49c9\n",
      "Successfully built htmlmin\n",
      "Installing collected packages: htmlmin, typeguard, multimethod, dacite, imagehash, wordcloud, visions, phik, ydata-profiling\n",
      "Successfully installed dacite-1.8.1 htmlmin-0.1.12 imagehash-4.3.1 multimethod-1.12 phik-0.12.4 typeguard-4.4.1 visions-0.7.6 wordcloud-1.9.3 ydata-profiling-4.12.0\n",
      "Note: you may need to restart the kernel to use updated packages.\n"
     ]
    }
   ],
   "source": [
    "pip install ydata-profiling"
   ]
  },
  {
   "cell_type": "code",
   "execution_count": 15,
   "id": "6c5f2ca0-df58-4682-bd64-649e739f3251",
   "metadata": {},
   "outputs": [
    {
     "name": "stdout",
     "output_type": "stream",
     "text": [
      "{'data': [{'id': '146,2024-11-09', 'type': 'rating', 'attributes': {'asDate': '2024-11-09', 'tickerId': 146, 'ratings': {'authorsCount': 29.0, 'authorsRating': 2.68966, 'authorsRatingBuyCount': 4.0, 'authorsRatingBuyCount30Day': 4.0, 'authorsRatingBuyCount90Day': 10.0, 'authorsRatingHoldCount': 12.0, 'authorsRatingHoldCount30Day': 12.0, 'authorsRatingHoldCount90Day': 29.0, 'authorsRatingSellCount': 9.0, 'authorsRatingSellCount30Day': 9.0, 'authorsRatingSellCount90Day': 15.0, 'authorsRatingStrongBuyCount': 1.0, 'authorsRatingStrongBuyCount30Day': 1.0, 'authorsRatingStrongBuyCount90Day': 3.0, 'authorsRatingStrongSellCount': 3.0, 'authorsRatingStrongSellCount30Day': 3.0, 'authorsRatingStrongSellCount90Day': 4.0, 'quantRating': 3.427642547515839, 'sellSideRating': 4.10638, 'divConsistencyCategoryGrade': 5, 'divGrowthCategoryGrade': 1, 'divSafetyCategoryGrade': 3, 'dividendYieldGrade': 11, 'dpsRevisionsGrade': 8, 'epsRevisionsGrade': 9, 'growthGrade': 11, 'momentumGrade': 6, 'profitabilityGrade': 1, 'valueGrade': 11, 'yieldOnCostGrade': 11}}, 'meta': {'is_locked': None}}, {'id': '146,2024-08-09', 'type': 'rating', 'attributes': {'asDate': '2024-08-09', 'tickerId': 146, 'ratings': {'authorsCount': 23.0, 'authorsRating': 2.86957, 'authorsRatingBuyCount': 7.0, 'authorsRatingBuyCount30Day': 7.0, 'authorsRatingBuyCount90Day': 15.0, 'authorsRatingHoldCount': 8.0, 'authorsRatingHoldCount30Day': 8.0, 'authorsRatingHoldCount90Day': 18.0, 'authorsRatingSellCount': 6.0, 'authorsRatingSellCount30Day': 6.0, 'authorsRatingSellCount90Day': 12.0, 'authorsRatingStrongBuyCount': 0.0, 'authorsRatingStrongBuyCount30Day': 0.0, 'authorsRatingStrongBuyCount90Day': 3.0, 'authorsRatingStrongSellCount': 2.0, 'authorsRatingStrongSellCount30Day': 2.0, 'authorsRatingStrongSellCount90Day': 3.0, 'quantRating': 3.493447397160539, 'sellSideRating': 4.19565, 'divSafetyCategoryGrade': 2, 'divGrowthCategoryGrade': 2, 'divConsistencyCategoryGrade': 5, 'dividendYieldGrade': 12, 'growthGrade': 12, 'profitabilityGrade': 1, 'momentumGrade': 5, 'valueGrade': 13, 'epsRevisionsGrade': 4, 'dpsRevisionsGrade': 10, 'yieldOnCostGrade': 11}}, 'meta': {'is_locked': None}}, {'id': '146,2024-05-09', 'type': 'rating', 'attributes': {'asDate': '2024-05-09', 'tickerId': 146, 'ratings': {'authorsCount': 25.0, 'authorsRating': 3.2, 'authorsRatingBuyCount': 9.0, 'authorsRatingBuyCount30Day': 9.0, 'authorsRatingBuyCount90Day': 18.0, 'authorsRatingHoldCount': 6.0, 'authorsRatingHoldCount30Day': 6.0, 'authorsRatingHoldCount90Day': 17.0, 'authorsRatingSellCount': 8.0, 'authorsRatingSellCount30Day': 8.0, 'authorsRatingSellCount90Day': 18.0, 'authorsRatingStrongBuyCount': 2.0, 'authorsRatingStrongBuyCount30Day': 2.0, 'authorsRatingStrongBuyCount90Day': 5.0, 'authorsRatingStrongSellCount': 0.0, 'authorsRatingStrongSellCount30Day': 0.0, 'authorsRatingStrongSellCount90Day': 0.0, 'quantRating': 3.421454545454545, 'sellSideRating': 4.09302, 'divConsistencyCategoryGrade': 5, 'divGrowthCategoryGrade': 1, 'divSafetyCategoryGrade': 5, 'dividendYieldGrade': 11, 'dpsRevisionsGrade': 10, 'epsRevisionsGrade': 6, 'growthGrade': 9, 'momentumGrade': 8, 'profitabilityGrade': 1, 'valueGrade': 13, 'yieldOnCostGrade': 10}}, 'meta': {'is_locked': None}}], 'meta': {'hasTodayRatings': True}}\n"
     ]
    }
   ],
   "source": [
    "import requests\n",
    "\n",
    "url = \"https://seeking-alpha.p.rapidapi.com/symbols/get-ratings\"\n",
    "\n",
    "querystring = {\"symbol\":\"aapl\"}\n",
    "\n",
    "headers = {\n",
    "\t\"x-rapidapi-key\": \"84fe14bf83msh0bf8f81ffe0b0d3p1a8fcejsna6d8fb35c16b\",\n",
    "\t\"x-rapidapi-host\": \"seeking-alpha.p.rapidapi.com\"\n",
    "}\n",
    "\n",
    "response = requests.get(url, headers=headers, params=querystring)\n",
    "\n",
    "df=print(response.json())\n",
    "df"
   ]
  },
  {
   "cell_type": "code",
   "execution_count": 29,
   "id": "06bde53f-75aa-4a74-a493-cef816e7be15",
   "metadata": {},
   "outputs": [],
   "source": [
    "import pandas as pd\n",
    "import requests"
   ]
  },
  {
   "cell_type": "code",
   "execution_count": 31,
   "id": "fecdb44d-81aa-4042-b6fe-26248279ff2c",
   "metadata": {},
   "outputs": [
    {
     "data": {
      "text/plain": [
       "<Response [200]>"
      ]
     },
     "execution_count": 31,
     "metadata": {},
     "output_type": "execute_result"
    }
   ],
   "source": [
    "data = requests.get('https://jsoneditoronline.org/#left=local.payova&right=local.vuyuza')\n",
    "data"
   ]
  },
  {
   "cell_type": "code",
   "execution_count": 99,
   "id": "edb5fb31-472b-45bf-9a3c-0a0a348731bf",
   "metadata": {},
   "outputs": [
    {
     "data": {
      "text/html": [
       "<div>\n",
       "<style scoped>\n",
       "    .dataframe tbody tr th:only-of-type {\n",
       "        vertical-align: middle;\n",
       "    }\n",
       "\n",
       "    .dataframe tbody tr th {\n",
       "        vertical-align: top;\n",
       "    }\n",
       "\n",
       "    .dataframe thead th {\n",
       "        text-align: right;\n",
       "    }\n",
       "</style>\n",
       "<table border=\"1\" class=\"dataframe\">\n",
       "  <thead>\n",
       "    <tr style=\"text-align: right;\">\n",
       "      <th></th>\n",
       "      <th>id</th>\n",
       "      <th>type</th>\n",
       "      <th>attributes</th>\n",
       "      <th>meta</th>\n",
       "    </tr>\n",
       "  </thead>\n",
       "  <tbody>\n",
       "    <tr>\n",
       "      <th>0</th>\n",
       "      <td>146,2024-11-09</td>\n",
       "      <td>rating</td>\n",
       "      <td>{'asDate': '2024-11-09', 'tickerId': 146, 'rat...</td>\n",
       "      <td>{'is_locked': None}</td>\n",
       "    </tr>\n",
       "    <tr>\n",
       "      <th>1</th>\n",
       "      <td>146,2024-08-09</td>\n",
       "      <td>rating</td>\n",
       "      <td>{'asDate': '2024-08-09', 'tickerId': 146, 'rat...</td>\n",
       "      <td>{'is_locked': None}</td>\n",
       "    </tr>\n",
       "    <tr>\n",
       "      <th>2</th>\n",
       "      <td>146,2024-05-09</td>\n",
       "      <td>rating</td>\n",
       "      <td>{'asDate': '2024-05-09', 'tickerId': 146, 'rat...</td>\n",
       "      <td>{'is_locked': None}</td>\n",
       "    </tr>\n",
       "  </tbody>\n",
       "</table>\n",
       "</div>"
      ],
      "text/plain": [
       "               id    type                                         attributes  \\\n",
       "0  146,2024-11-09  rating  {'asDate': '2024-11-09', 'tickerId': 146, 'rat...   \n",
       "1  146,2024-08-09  rating  {'asDate': '2024-08-09', 'tickerId': 146, 'rat...   \n",
       "2  146,2024-05-09  rating  {'asDate': '2024-05-09', 'tickerId': 146, 'rat...   \n",
       "\n",
       "                  meta  \n",
       "0  {'is_locked': None}  \n",
       "1  {'is_locked': None}  \n",
       "2  {'is_locked': None}  "
      ]
     },
     "execution_count": 99,
     "metadata": {},
     "output_type": "execute_result"
    }
   ],
   "source": [
    "data = pd.DataFrame(response.json()['data'])\n",
    "data"
   ]
  },
  {
   "cell_type": "code",
   "execution_count": 93,
   "id": "98e01c19-7958-481c-8683-9b585568d178",
   "metadata": {},
   "outputs": [],
   "source": [
    "data.to_csv('seeking_Alpha.csv')"
   ]
  },
  {
   "cell_type": "code",
   "execution_count": 95,
   "id": "48a592ed-2d2e-4cf3-a8ea-e49438ad1406",
   "metadata": {},
   "outputs": [
    {
     "data": {
      "application/vnd.jupyter.widget-view+json": {
       "model_id": "bdde894086b54c00bb5df0dcc7232324",
       "version_major": 2,
       "version_minor": 0
      },
      "text/plain": [
       "Summarize dataset:   0%|          | 0/5 [00:00<?, ?it/s]"
      ]
     },
     "metadata": {},
     "output_type": "display_data"
    },
    {
     "data": {
      "application/vnd.jupyter.widget-view+json": {
       "model_id": "328e69f6160340e6928e0d037f663f5c",
       "version_major": 2,
       "version_minor": 0
      },
      "text/plain": [
       "Generate report structure:   0%|          | 0/1 [00:00<?, ?it/s]"
      ]
     },
     "metadata": {},
     "output_type": "display_data"
    },
    {
     "data": {
      "application/vnd.jupyter.widget-view+json": {
       "model_id": "6f0a22f225a34c238528ffd6c1fbdffa",
       "version_major": 2,
       "version_minor": 0
      },
      "text/plain": [
       "Render HTML:   0%|          | 0/1 [00:00<?, ?it/s]"
      ]
     },
     "metadata": {},
     "output_type": "display_data"
    },
    {
     "data": {
      "application/vnd.jupyter.widget-view+json": {
       "model_id": "19c5f957ae0d4c589488621dad5e2fd0",
       "version_major": 2,
       "version_minor": 0
      },
      "text/plain": [
       "Export report to file:   0%|          | 0/1 [00:00<?, ?it/s]"
      ]
     },
     "metadata": {},
     "output_type": "display_data"
    }
   ],
   "source": [
    "from ydata_profiling import ProfileReport\n",
    "prof = ProfileReport(data)\n",
    "prof.to_file(output_file='Output_data.html')"
   ]
  },
  {
   "cell_type": "code",
   "execution_count": 101,
   "id": "e4e14797-5357-4748-a46c-1915f39f7546",
   "metadata": {},
   "outputs": [
    {
     "data": {
      "text/html": [
       "<div>\n",
       "<style scoped>\n",
       "    .dataframe tbody tr th:only-of-type {\n",
       "        vertical-align: middle;\n",
       "    }\n",
       "\n",
       "    .dataframe tbody tr th {\n",
       "        vertical-align: top;\n",
       "    }\n",
       "\n",
       "    .dataframe thead th {\n",
       "        text-align: right;\n",
       "    }\n",
       "</style>\n",
       "<table border=\"1\" class=\"dataframe\">\n",
       "  <thead>\n",
       "    <tr style=\"text-align: right;\">\n",
       "      <th></th>\n",
       "      <th>id</th>\n",
       "      <th>type</th>\n",
       "      <th>attributes</th>\n",
       "    </tr>\n",
       "  </thead>\n",
       "  <tbody>\n",
       "    <tr>\n",
       "      <th>0</th>\n",
       "      <td>146,2024-11-09</td>\n",
       "      <td>rating</td>\n",
       "      <td>{'asDate': '2024-11-09', 'tickerId': 146, 'rat...</td>\n",
       "    </tr>\n",
       "    <tr>\n",
       "      <th>1</th>\n",
       "      <td>146,2024-08-09</td>\n",
       "      <td>rating</td>\n",
       "      <td>{'asDate': '2024-08-09', 'tickerId': 146, 'rat...</td>\n",
       "    </tr>\n",
       "    <tr>\n",
       "      <th>2</th>\n",
       "      <td>146,2024-05-09</td>\n",
       "      <td>rating</td>\n",
       "      <td>{'asDate': '2024-05-09', 'tickerId': 146, 'rat...</td>\n",
       "    </tr>\n",
       "  </tbody>\n",
       "</table>\n",
       "</div>"
      ],
      "text/plain": [
       "               id    type                                         attributes\n",
       "0  146,2024-11-09  rating  {'asDate': '2024-11-09', 'tickerId': 146, 'rat...\n",
       "1  146,2024-08-09  rating  {'asDate': '2024-08-09', 'tickerId': 146, 'rat...\n",
       "2  146,2024-05-09  rating  {'asDate': '2024-05-09', 'tickerId': 146, 'rat..."
      ]
     },
     "execution_count": 101,
     "metadata": {},
     "output_type": "execute_result"
    }
   ],
   "source": [
    "data_0 = data.drop('meta', axis=1)\n",
    "data_0"
   ]
  },
  {
   "cell_type": "code",
   "execution_count": 65,
   "id": "ca64b1aa-7b85-4d75-93d0-9308d6150e3b",
   "metadata": {},
   "outputs": [
    {
     "data": {
      "text/html": [
       "<div>\n",
       "<style scoped>\n",
       "    .dataframe tbody tr th:only-of-type {\n",
       "        vertical-align: middle;\n",
       "    }\n",
       "\n",
       "    .dataframe tbody tr th {\n",
       "        vertical-align: top;\n",
       "    }\n",
       "\n",
       "    .dataframe thead th {\n",
       "        text-align: right;\n",
       "    }\n",
       "</style>\n",
       "<table border=\"1\" class=\"dataframe\">\n",
       "  <thead>\n",
       "    <tr style=\"text-align: right;\">\n",
       "      <th></th>\n",
       "      <th>id</th>\n",
       "      <th>type</th>\n",
       "      <th>attributes</th>\n",
       "      <th>meta</th>\n",
       "    </tr>\n",
       "  </thead>\n",
       "  <tbody>\n",
       "    <tr>\n",
       "      <th>asDate</th>\n",
       "      <td>146,2024-11-09</td>\n",
       "      <td>rating</td>\n",
       "      <td>2024-11-09</td>\n",
       "      <td>NaN</td>\n",
       "    </tr>\n",
       "    <tr>\n",
       "      <th>tickerId</th>\n",
       "      <td>146,2024-11-09</td>\n",
       "      <td>rating</td>\n",
       "      <td>146</td>\n",
       "      <td>NaN</td>\n",
       "    </tr>\n",
       "    <tr>\n",
       "      <th>ratings</th>\n",
       "      <td>146,2024-11-09</td>\n",
       "      <td>rating</td>\n",
       "      <td>{'authorsCount': 29.0, 'authorsRating': 2.6896...</td>\n",
       "      <td>NaN</td>\n",
       "    </tr>\n",
       "    <tr>\n",
       "      <th>is_locked</th>\n",
       "      <td>146,2024-11-09</td>\n",
       "      <td>rating</td>\n",
       "      <td>NaN</td>\n",
       "      <td>NaN</td>\n",
       "    </tr>\n",
       "  </tbody>\n",
       "</table>\n",
       "</div>"
      ],
      "text/plain": [
       "                       id    type  \\\n",
       "asDate     146,2024-11-09  rating   \n",
       "tickerId   146,2024-11-09  rating   \n",
       "ratings    146,2024-11-09  rating   \n",
       "is_locked  146,2024-11-09  rating   \n",
       "\n",
       "                                                  attributes  meta  \n",
       "asDate                                            2024-11-09   NaN  \n",
       "tickerId                                                 146   NaN  \n",
       "ratings    {'authorsCount': 29.0, 'authorsRating': 2.6896...   NaN  \n",
       "is_locked                                                NaN   NaN  "
      ]
     },
     "execution_count": 65,
     "metadata": {},
     "output_type": "execute_result"
    }
   ],
   "source": [
    "data_1 = pd.DataFrame(response.json()['data'][0])\n",
    "data_1"
   ]
  },
  {
   "cell_type": "code",
   "execution_count": 103,
   "id": "7a21c025-6db5-499f-9e07-e677496b949c",
   "metadata": {},
   "outputs": [],
   "source": [
    "data_1.to_csv('seeking_Api_data_1.csv')"
   ]
  },
  {
   "cell_type": "code",
   "execution_count": 105,
   "id": "3641f963-310d-4ccb-acc6-874456dfc4ce",
   "metadata": {},
   "outputs": [
    {
     "data": {
      "application/vnd.jupyter.widget-view+json": {
       "model_id": "20bc171ee52c4584b73026b3b958789a",
       "version_major": 2,
       "version_minor": 0
      },
      "text/plain": [
       "Summarize dataset:   0%|          | 0/5 [00:00<?, ?it/s]"
      ]
     },
     "metadata": {},
     "output_type": "display_data"
    },
    {
     "data": {
      "application/vnd.jupyter.widget-view+json": {
       "model_id": "7fb56d374b714d23811243b86421678a",
       "version_major": 2,
       "version_minor": 0
      },
      "text/plain": [
       "Generate report structure:   0%|          | 0/1 [00:00<?, ?it/s]"
      ]
     },
     "metadata": {},
     "output_type": "display_data"
    },
    {
     "data": {
      "application/vnd.jupyter.widget-view+json": {
       "model_id": "f3e3ce67f98644a5a266cf17a181833e",
       "version_major": 2,
       "version_minor": 0
      },
      "text/plain": [
       "Render HTML:   0%|          | 0/1 [00:00<?, ?it/s]"
      ]
     },
     "metadata": {},
     "output_type": "display_data"
    },
    {
     "name": "stderr",
     "output_type": "stream",
     "text": [
      "C:\\Users\\aman2\\anaconda3\\Lib\\site-packages\\ydata_profiling\\profile_report.py:379: UserWarning: Extension  not supported. For now we assume .html was intended. To remove this warning, please use .html or .json.\n",
      "  warnings.warn(\n"
     ]
    },
    {
     "data": {
      "application/vnd.jupyter.widget-view+json": {
       "model_id": "01c5a49922df4101be90506b0b3d06d1",
       "version_major": 2,
       "version_minor": 0
      },
      "text/plain": [
       "Export report to file:   0%|          | 0/1 [00:00<?, ?it/s]"
      ]
     },
     "metadata": {},
     "output_type": "display_data"
    }
   ],
   "source": [
    "from ydata_profiling import ProfileReport\n",
    "prof = ProfileReport(data_1)\n",
    "prof.to_file(output_file='output_data_1')"
   ]
  },
  {
   "cell_type": "code",
   "execution_count": 71,
   "id": "47f9e4dd-f9ca-4444-8aa3-3066e1a4200f",
   "metadata": {},
   "outputs": [
    {
     "data": {
      "text/html": [
       "<div>\n",
       "<style scoped>\n",
       "    .dataframe tbody tr th:only-of-type {\n",
       "        vertical-align: middle;\n",
       "    }\n",
       "\n",
       "    .dataframe tbody tr th {\n",
       "        vertical-align: top;\n",
       "    }\n",
       "\n",
       "    .dataframe thead th {\n",
       "        text-align: right;\n",
       "    }\n",
       "</style>\n",
       "<table border=\"1\" class=\"dataframe\">\n",
       "  <thead>\n",
       "    <tr style=\"text-align: right;\">\n",
       "      <th></th>\n",
       "      <th>asDate</th>\n",
       "      <th>tickerId</th>\n",
       "      <th>ratings</th>\n",
       "    </tr>\n",
       "  </thead>\n",
       "  <tbody>\n",
       "    <tr>\n",
       "      <th>authorsCount</th>\n",
       "      <td>2024-11-09</td>\n",
       "      <td>146</td>\n",
       "      <td>29.000000</td>\n",
       "    </tr>\n",
       "    <tr>\n",
       "      <th>authorsRating</th>\n",
       "      <td>2024-11-09</td>\n",
       "      <td>146</td>\n",
       "      <td>2.689660</td>\n",
       "    </tr>\n",
       "    <tr>\n",
       "      <th>authorsRatingBuyCount</th>\n",
       "      <td>2024-11-09</td>\n",
       "      <td>146</td>\n",
       "      <td>4.000000</td>\n",
       "    </tr>\n",
       "    <tr>\n",
       "      <th>authorsRatingBuyCount30Day</th>\n",
       "      <td>2024-11-09</td>\n",
       "      <td>146</td>\n",
       "      <td>4.000000</td>\n",
       "    </tr>\n",
       "    <tr>\n",
       "      <th>authorsRatingBuyCount90Day</th>\n",
       "      <td>2024-11-09</td>\n",
       "      <td>146</td>\n",
       "      <td>10.000000</td>\n",
       "    </tr>\n",
       "    <tr>\n",
       "      <th>authorsRatingHoldCount</th>\n",
       "      <td>2024-11-09</td>\n",
       "      <td>146</td>\n",
       "      <td>12.000000</td>\n",
       "    </tr>\n",
       "    <tr>\n",
       "      <th>authorsRatingHoldCount30Day</th>\n",
       "      <td>2024-11-09</td>\n",
       "      <td>146</td>\n",
       "      <td>12.000000</td>\n",
       "    </tr>\n",
       "    <tr>\n",
       "      <th>authorsRatingHoldCount90Day</th>\n",
       "      <td>2024-11-09</td>\n",
       "      <td>146</td>\n",
       "      <td>29.000000</td>\n",
       "    </tr>\n",
       "    <tr>\n",
       "      <th>authorsRatingSellCount</th>\n",
       "      <td>2024-11-09</td>\n",
       "      <td>146</td>\n",
       "      <td>9.000000</td>\n",
       "    </tr>\n",
       "    <tr>\n",
       "      <th>authorsRatingSellCount30Day</th>\n",
       "      <td>2024-11-09</td>\n",
       "      <td>146</td>\n",
       "      <td>9.000000</td>\n",
       "    </tr>\n",
       "    <tr>\n",
       "      <th>authorsRatingSellCount90Day</th>\n",
       "      <td>2024-11-09</td>\n",
       "      <td>146</td>\n",
       "      <td>15.000000</td>\n",
       "    </tr>\n",
       "    <tr>\n",
       "      <th>authorsRatingStrongBuyCount</th>\n",
       "      <td>2024-11-09</td>\n",
       "      <td>146</td>\n",
       "      <td>1.000000</td>\n",
       "    </tr>\n",
       "    <tr>\n",
       "      <th>authorsRatingStrongBuyCount30Day</th>\n",
       "      <td>2024-11-09</td>\n",
       "      <td>146</td>\n",
       "      <td>1.000000</td>\n",
       "    </tr>\n",
       "    <tr>\n",
       "      <th>authorsRatingStrongBuyCount90Day</th>\n",
       "      <td>2024-11-09</td>\n",
       "      <td>146</td>\n",
       "      <td>3.000000</td>\n",
       "    </tr>\n",
       "    <tr>\n",
       "      <th>authorsRatingStrongSellCount</th>\n",
       "      <td>2024-11-09</td>\n",
       "      <td>146</td>\n",
       "      <td>3.000000</td>\n",
       "    </tr>\n",
       "    <tr>\n",
       "      <th>authorsRatingStrongSellCount30Day</th>\n",
       "      <td>2024-11-09</td>\n",
       "      <td>146</td>\n",
       "      <td>3.000000</td>\n",
       "    </tr>\n",
       "    <tr>\n",
       "      <th>authorsRatingStrongSellCount90Day</th>\n",
       "      <td>2024-11-09</td>\n",
       "      <td>146</td>\n",
       "      <td>4.000000</td>\n",
       "    </tr>\n",
       "    <tr>\n",
       "      <th>quantRating</th>\n",
       "      <td>2024-11-09</td>\n",
       "      <td>146</td>\n",
       "      <td>3.427643</td>\n",
       "    </tr>\n",
       "    <tr>\n",
       "      <th>sellSideRating</th>\n",
       "      <td>2024-11-09</td>\n",
       "      <td>146</td>\n",
       "      <td>4.106380</td>\n",
       "    </tr>\n",
       "    <tr>\n",
       "      <th>divConsistencyCategoryGrade</th>\n",
       "      <td>2024-11-09</td>\n",
       "      <td>146</td>\n",
       "      <td>5.000000</td>\n",
       "    </tr>\n",
       "    <tr>\n",
       "      <th>divGrowthCategoryGrade</th>\n",
       "      <td>2024-11-09</td>\n",
       "      <td>146</td>\n",
       "      <td>1.000000</td>\n",
       "    </tr>\n",
       "    <tr>\n",
       "      <th>divSafetyCategoryGrade</th>\n",
       "      <td>2024-11-09</td>\n",
       "      <td>146</td>\n",
       "      <td>3.000000</td>\n",
       "    </tr>\n",
       "    <tr>\n",
       "      <th>dividendYieldGrade</th>\n",
       "      <td>2024-11-09</td>\n",
       "      <td>146</td>\n",
       "      <td>11.000000</td>\n",
       "    </tr>\n",
       "    <tr>\n",
       "      <th>dpsRevisionsGrade</th>\n",
       "      <td>2024-11-09</td>\n",
       "      <td>146</td>\n",
       "      <td>8.000000</td>\n",
       "    </tr>\n",
       "    <tr>\n",
       "      <th>epsRevisionsGrade</th>\n",
       "      <td>2024-11-09</td>\n",
       "      <td>146</td>\n",
       "      <td>9.000000</td>\n",
       "    </tr>\n",
       "    <tr>\n",
       "      <th>growthGrade</th>\n",
       "      <td>2024-11-09</td>\n",
       "      <td>146</td>\n",
       "      <td>11.000000</td>\n",
       "    </tr>\n",
       "    <tr>\n",
       "      <th>momentumGrade</th>\n",
       "      <td>2024-11-09</td>\n",
       "      <td>146</td>\n",
       "      <td>6.000000</td>\n",
       "    </tr>\n",
       "    <tr>\n",
       "      <th>profitabilityGrade</th>\n",
       "      <td>2024-11-09</td>\n",
       "      <td>146</td>\n",
       "      <td>1.000000</td>\n",
       "    </tr>\n",
       "    <tr>\n",
       "      <th>valueGrade</th>\n",
       "      <td>2024-11-09</td>\n",
       "      <td>146</td>\n",
       "      <td>11.000000</td>\n",
       "    </tr>\n",
       "    <tr>\n",
       "      <th>yieldOnCostGrade</th>\n",
       "      <td>2024-11-09</td>\n",
       "      <td>146</td>\n",
       "      <td>11.000000</td>\n",
       "    </tr>\n",
       "  </tbody>\n",
       "</table>\n",
       "</div>"
      ],
      "text/plain": [
       "                                       asDate  tickerId    ratings\n",
       "authorsCount                       2024-11-09       146  29.000000\n",
       "authorsRating                      2024-11-09       146   2.689660\n",
       "authorsRatingBuyCount              2024-11-09       146   4.000000\n",
       "authorsRatingBuyCount30Day         2024-11-09       146   4.000000\n",
       "authorsRatingBuyCount90Day         2024-11-09       146  10.000000\n",
       "authorsRatingHoldCount             2024-11-09       146  12.000000\n",
       "authorsRatingHoldCount30Day        2024-11-09       146  12.000000\n",
       "authorsRatingHoldCount90Day        2024-11-09       146  29.000000\n",
       "authorsRatingSellCount             2024-11-09       146   9.000000\n",
       "authorsRatingSellCount30Day        2024-11-09       146   9.000000\n",
       "authorsRatingSellCount90Day        2024-11-09       146  15.000000\n",
       "authorsRatingStrongBuyCount        2024-11-09       146   1.000000\n",
       "authorsRatingStrongBuyCount30Day   2024-11-09       146   1.000000\n",
       "authorsRatingStrongBuyCount90Day   2024-11-09       146   3.000000\n",
       "authorsRatingStrongSellCount       2024-11-09       146   3.000000\n",
       "authorsRatingStrongSellCount30Day  2024-11-09       146   3.000000\n",
       "authorsRatingStrongSellCount90Day  2024-11-09       146   4.000000\n",
       "quantRating                        2024-11-09       146   3.427643\n",
       "sellSideRating                     2024-11-09       146   4.106380\n",
       "divConsistencyCategoryGrade        2024-11-09       146   5.000000\n",
       "divGrowthCategoryGrade             2024-11-09       146   1.000000\n",
       "divSafetyCategoryGrade             2024-11-09       146   3.000000\n",
       "dividendYieldGrade                 2024-11-09       146  11.000000\n",
       "dpsRevisionsGrade                  2024-11-09       146   8.000000\n",
       "epsRevisionsGrade                  2024-11-09       146   9.000000\n",
       "growthGrade                        2024-11-09       146  11.000000\n",
       "momentumGrade                      2024-11-09       146   6.000000\n",
       "profitabilityGrade                 2024-11-09       146   1.000000\n",
       "valueGrade                         2024-11-09       146  11.000000\n",
       "yieldOnCostGrade                   2024-11-09       146  11.000000"
      ]
     },
     "execution_count": 71,
     "metadata": {},
     "output_type": "execute_result"
    }
   ],
   "source": [
    "data_1 = pd.DataFrame(response.json()['data'][0]['attributes'])\n",
    "data_1"
   ]
  },
  {
   "cell_type": "code",
   "execution_count": null,
   "id": "3bb73ac1-91ad-4dec-896f-72fd0c7f2297",
   "metadata": {},
   "outputs": [],
   "source": [
    "from ydata_profiling import ProfileReport\n",
    "prof = ProfileReport(data)\n",
    "prof.to_file(output_file='Output_2.html')"
   ]
  }
 ],
 "metadata": {
  "kernelspec": {
   "display_name": "Python 3 (ipykernel)",
   "language": "python",
   "name": "python3"
  },
  "language_info": {
   "codemirror_mode": {
    "name": "ipython",
    "version": 3
   },
   "file_extension": ".py",
   "mimetype": "text/x-python",
   "name": "python",
   "nbconvert_exporter": "python",
   "pygments_lexer": "ipython3",
   "version": "3.12.7"
  }
 },
 "nbformat": 4,
 "nbformat_minor": 5
}
